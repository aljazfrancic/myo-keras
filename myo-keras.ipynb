{
 "cells": [
  {
   "cell_type": "code",
   "execution_count": 1,
   "id": "alpha-andrew",
   "metadata": {},
   "outputs": [],
   "source": [
    "import os\n",
    "import numpy as np\n",
    "import matplotlib.pyplot as plt\n",
    "import tensorflow as tf\n",
    "from tensorflow import keras"
   ]
  },
  {
   "cell_type": "code",
   "execution_count": 2,
   "id": "welcome-timeline",
   "metadata": {},
   "outputs": [],
   "source": [
    "def get_rms(data, n):\n",
    "    new = np.zeros(data.shape)\n",
    "    for channel in range(data.shape[1]):\n",
    "        for current in range(data.shape[0]):\n",
    "            suma = 0\n",
    "            for window in range(current, current - n, -1):\n",
    "                suma += data[window, channel] * data[window, channel]\n",
    "            new[current, channel] = (np.sqrt((1/n)*suma) / 128) if channel != 8 else data[current, channel]\n",
    "    #plt.figure()\n",
    "    #plt.plot(data)\n",
    "    #plt.figure()\n",
    "    #plt.plot(new)\n",
    "    return new\n",
    "\n",
    "def peel_labels(data):\n",
    "    return data[:,:8], data[:,8]\n",
    "\n",
    "def get_values(seshes):\n",
    "    big_matrix = np.zeros((0, 9))\n",
    "    for sesh in seshes:\n",
    "        print(sesh[0])\n",
    "        for gesture in range(8):\n",
    "            matrix = np.genfromtxt(sesh[0] + \"/\" + str(gesture) + \".txt\", delimiter=\",\")\n",
    "            rms = get_rms(matrix, 50)\n",
    "            big_matrix = np.concatenate((big_matrix, rms), axis = 0)\n",
    "    return big_matrix"
   ]
  },
  {
   "cell_type": "code",
   "execution_count": 3,
   "id": "identified-cartridge",
   "metadata": {},
   "outputs": [
    {
     "name": "stdout",
     "output_type": "stream",
     "text": [
      "../myo-readings-dataset/_readings/AM-S2\n",
      "../myo-readings-dataset/_readings/Session AK at 03_09_2021, 11_30_40\n",
      "../myo-readings-dataset/_readings/Meritve seja 2\n",
      "../myo-readings-dataset/_readings/session2\n",
      "../myo-readings-dataset/_readings/Session AK at 03_09_2021, 18_29_33\n",
      "../myo-readings-dataset/_readings/seja-2\n",
      "../myo-readings-dataset/_readings/Seja 2\n",
      "../myo-readings-dataset/_readings/sk_readings_1615834972_s03\n",
      "../myo-readings-dataset/_readings/Seja 3\n",
      "../myo-readings-dataset/_readings/session_3_SH\n",
      "../myo-readings-dataset/_readings/seja_ao_3\n",
      "../myo-readings-dataset/_readings/session3\n",
      "../myo-readings-dataset/_readings/session 02\n",
      "../myo-readings-dataset/_readings/Seja 03\n",
      "../myo-readings-dataset/_readings/myo_session2\n",
      "../myo-readings-dataset/_readings/mi-seja2\n",
      "../myo-readings-dataset/_readings/seja_ao_1\n",
      "../myo-readings-dataset/_readings/record_1\n",
      "../myo-readings-dataset/_readings/Seja 01\n",
      "../myo-readings-dataset/_readings/mi-seja1\n",
      "../myo-readings-dataset/_readings/myo_session1\n",
      "../myo-readings-dataset/_readings/Sesh1\n",
      "../myo-readings-dataset/_readings/session 2\n",
      "../myo-readings-dataset/_readings/seja1_FS\n",
      "../myo-readings-dataset/_readings/Meritve-seja-3\n",
      "../myo-readings-dataset/_readings/session 03\n",
      "../myo-readings-dataset/_readings/Meritve seja 3\n",
      "../myo-readings-dataset/_readings/seja2_FS\n",
      "../myo-readings-dataset/_readings/session 01\n",
      "../myo-readings-dataset/_readings/03\n",
      "../myo-readings-dataset/_readings/Meritve-seja-1\n",
      "../myo-readings-dataset/_readings/Meritve-seja-2\n",
      "../myo-readings-dataset/_readings/seja3_FS\n",
      "../myo-readings-dataset/_readings/s1\n",
      "../myo-readings-dataset/_readings/Meritve seja 1\n",
      "../myo-readings-dataset/_readings/session_MK_2\n",
      "../myo-readings-dataset/_readings/Session_4\n",
      "../myo-readings-dataset/_readings/seja-3\n",
      "../myo-readings-dataset/_readings/myo_session3\n",
      "../myo-readings-dataset/_readings/AM-S3\n",
      "../myo-readings-dataset/_readings/record_3\n",
      "../myo-readings-dataset/_readings/Session AK at 03_09_2021, 13_01_19\n",
      "../myo-readings-dataset/_readings/session1\n",
      "../myo-readings-dataset/_readings/Seja 02\n",
      "../myo-readings-dataset/_readings/session_1_SH\n",
      "../myo-readings-dataset/_readings/AM-S1\n",
      "../myo-readings-dataset/_readings/s2\n",
      "../myo-readings-dataset/_readings/s3\n",
      "../myo-readings-dataset/_readings/session_2_SH\n",
      "../myo-readings-dataset/_readings/Session_3\n",
      "../myo-readings-dataset/_readings/sk_readings_1615751482_s02\n",
      "../myo-readings-dataset/_readings/Sesh2\n",
      "../myo-readings-dataset/_readings/Session_2\n",
      "../myo-readings-dataset/_readings/record_2\n",
      "../myo-readings-dataset/_readings/sk_readings_1615725753_s01\n",
      "../myo-readings-dataset/_readings/Session_5\n",
      "../myo-readings-dataset/_readings/seja-1\n",
      "../myo-readings-dataset/_readings/Sesh3\n",
      "../myo-readings-dataset/_readings/Seja 1\n",
      "../myo-readings-dataset/_readings/session 1\n",
      "../myo-readings-dataset/_readings/seja_ao_2\n",
      "../myo-readings-dataset/_readings/session 3\n",
      "../myo-readings-dataset/_readings/session_MK_1\n",
      "../myo-readings-dataset/_readings/session_MK_3\n",
      "../myo-readings-dataset/_readings/mi-seja3\n",
      "../myo-readings-dataset/_readings/Session_1\n"
     ]
    }
   ],
   "source": [
    "readings = \"../myo-readings-dataset/_readings/\"\n",
    "seshes = list(os.walk(readings))[1:]\n",
    "np.random.shuffle(seshes)\n",
    "siz = len(seshes)\n",
    "split1 = int(0.6 * siz)\n",
    "split2 = int(0.8 * siz)\n",
    "train_set, valid_set, test_set = get_values(seshes[:split1]), \\\n",
    "                                 get_values(seshes[split1:split2]), \\\n",
    "                                 get_values(seshes[split2:])\n",
    "\n",
    "train, train_labels = peel_labels(train_set)\n",
    "valid, valid_labels = peel_labels(valid_set)\n",
    "test, test_labels = peel_labels(test_set)"
   ]
  },
  {
   "cell_type": "code",
   "execution_count": 4,
   "id": "pacific-evolution",
   "metadata": {},
   "outputs": [],
   "source": [
    "cat_train_labels = keras.utils.to_categorical(train_labels)\n",
    "cat_valid_labels = keras.utils.to_categorical(valid_labels)\n",
    "cat_test_labels = keras.utils.to_categorical(test_labels)"
   ]
  },
  {
   "cell_type": "code",
   "execution_count": 5,
   "id": "textile-platinum",
   "metadata": {},
   "outputs": [
    {
     "data": {
      "text/plain": [
       "[<matplotlib.lines.Line2D at 0x1cbdd097388>,\n",
       " <matplotlib.lines.Line2D at 0x1cbdd1eb648>,\n",
       " <matplotlib.lines.Line2D at 0x1cbdd097708>,\n",
       " <matplotlib.lines.Line2D at 0x1cbdd0978c8>,\n",
       " <matplotlib.lines.Line2D at 0x1cbdd097ac8>,\n",
       " <matplotlib.lines.Line2D at 0x1cbdd097d08>,\n",
       " <matplotlib.lines.Line2D at 0x1cbdd097f08>,\n",
       " <matplotlib.lines.Line2D at 0x1cbdd099148>]"
      ]
     },
     "execution_count": 5,
     "metadata": {},
     "output_type": "execute_result"
    },
    {
     "data": {
      "image/png": "[encoded data removed]",
      "text/plain": [
       "<Figure size 432x288 with 1 Axes>"
      ]
     },
     "metadata": {
      "needs_background": "light"
     },
     "output_type": "display_data"
    },
    {
     "data": {
      "image/png": "[encoded data removed]",
      "text/plain": [
       "<Figure size 432x288 with 1 Axes>"
      ]
     },
     "metadata": {
      "needs_background": "light"
     },
     "output_type": "display_data"
    }
   ],
   "source": [
    "plt.figure()\n",
    "plt.plot(test_labels)\n",
    "plt.figure()\n",
    "plt.plot(cat_test_labels)"
   ]
  },
  {
   "cell_type": "code",
   "execution_count": 6,
   "id": "lesser-status",
   "metadata": {},
   "outputs": [],
   "source": [
    "model = keras.Sequential([\n",
    "    keras.layers.Dense(300, activation = \"relu\", input_shape = (8,)),\n",
    "    keras.layers.Dense(200, activation = \"relu\"),\n",
    "    keras.layers.Dense(100, activation = \"relu\"),\n",
    "    keras.layers.Dense(50, activation = \"relu\"),\n",
    "    keras.layers.Dense(8, activation = \"sigmoid\")\n",
    "])\n",
    "\n",
    "opt = keras.optimizers.Adam()\n",
    "loss = tf.keras.losses.CategoricalCrossentropy()\n",
    "model.compile(optimizer = opt, loss = loss, metrics = [\"accuracy\"])"
   ]
  },
  {
   "cell_type": "code",
   "execution_count": 7,
   "id": "integrated-mozambique",
   "metadata": {},
   "outputs": [
    {
     "name": "stdout",
     "output_type": "stream",
     "text": [
      "Epoch 1/15\n",
      "117101/117101 [==============================] - 166s 1ms/step - loss: 0.5688 - accuracy: 0.8249 - val_loss: 1.5117 - val_accuracy: 0.6719\n",
      "Epoch 2/15\n",
      "117101/117101 [==============================] - 162s 1ms/step - loss: 0.3339 - accuracy: 0.8995 - val_loss: 1.7356 - val_accuracy: 0.6695\n",
      "Epoch 3/15\n",
      "117101/117101 [==============================] - 161s 1ms/step - loss: 0.2952 - accuracy: 0.9104 - val_loss: 1.7895 - val_accuracy: 0.6796\n",
      "Epoch 4/15\n",
      "117101/117101 [==============================] - 176s 1ms/step - loss: 0.2732 - accuracy: 0.9167 - val_loss: 1.8931 - val_accuracy: 0.6779\n",
      "Epoch 5/15\n",
      "117101/117101 [==============================] - 161s 1ms/step - loss: 0.2592 - accuracy: 0.9206 - val_loss: 1.9991 - val_accuracy: 0.6721\n",
      "Epoch 6/15\n",
      " 26212/117101 [=====>........................] - ETA: 2:14 - loss: 0.2480 - accuracy: 0.9241 ETA: 2:14 -"
     ]
    },
    {
     "ename": "KeyboardInterrupt",
     "evalue": "",
     "output_type": "error",
     "traceback": [
      "\u001b[1;31m---------------------------------------------------------------------------\u001b[0m",
      "\u001b[1;31mKeyboardInterrupt\u001b[0m                         Traceback (most recent call last)",
      "\u001b[1;32m<ipython-input-7-cdd7ae82ddb7>\u001b[0m in \u001b[0;36m<module>\u001b[1;34m\u001b[0m\n\u001b[1;32m----> 1\u001b[1;33m \u001b[0mhistory\u001b[0m \u001b[1;33m=\u001b[0m \u001b[0mmodel\u001b[0m\u001b[1;33m.\u001b[0m\u001b[0mfit\u001b[0m\u001b[1;33m(\u001b[0m\u001b[0mtrain\u001b[0m\u001b[1;33m,\u001b[0m \u001b[0mcat_train_labels\u001b[0m\u001b[1;33m,\u001b[0m \u001b[0mvalidation_data\u001b[0m \u001b[1;33m=\u001b[0m \u001b[1;33m(\u001b[0m\u001b[0mvalid\u001b[0m\u001b[1;33m,\u001b[0m \u001b[0mcat_valid_labels\u001b[0m\u001b[1;33m)\u001b[0m\u001b[1;33m,\u001b[0m \u001b[0mepochs\u001b[0m\u001b[1;33m=\u001b[0m\u001b[1;36m15\u001b[0m\u001b[1;33m)\u001b[0m\u001b[1;33m\u001b[0m\u001b[1;33m\u001b[0m\u001b[0m\n\u001b[0m",
      "\u001b[1;32m~\\AppData\\Roaming\\Python\\Python37\\site-packages\\tensorflow\\python\\keras\\engine\\training.py\u001b[0m in \u001b[0;36mfit\u001b[1;34m(self, x, y, batch_size, epochs, verbose, callbacks, validation_split, validation_data, shuffle, class_weight, sample_weight, initial_epoch, steps_per_epoch, validation_steps, validation_batch_size, validation_freq, max_queue_size, workers, use_multiprocessing)\u001b[0m\n\u001b[0;32m   1098\u001b[0m                 _r=1):\n\u001b[0;32m   1099\u001b[0m               \u001b[0mcallbacks\u001b[0m\u001b[1;33m.\u001b[0m\u001b[0mon_train_batch_begin\u001b[0m\u001b[1;33m(\u001b[0m\u001b[0mstep\u001b[0m\u001b[1;33m)\u001b[0m\u001b[1;33m\u001b[0m\u001b[1;33m\u001b[0m\u001b[0m\n\u001b[1;32m-> 1100\u001b[1;33m               \u001b[0mtmp_logs\u001b[0m \u001b[1;33m=\u001b[0m \u001b[0mself\u001b[0m\u001b[1;33m.\u001b[0m\u001b[0mtrain_function\u001b[0m\u001b[1;33m(\u001b[0m\u001b[0miterator\u001b[0m\u001b[1;33m)\u001b[0m\u001b[1;33m\u001b[0m\u001b[1;33m\u001b[0m\u001b[0m\n\u001b[0m\u001b[0;32m   1101\u001b[0m               \u001b[1;32mif\u001b[0m \u001b[0mdata_handler\u001b[0m\u001b[1;33m.\u001b[0m\u001b[0mshould_sync\u001b[0m\u001b[1;33m:\u001b[0m\u001b[1;33m\u001b[0m\u001b[1;33m\u001b[0m\u001b[0m\n\u001b[0;32m   1102\u001b[0m                 \u001b[0mcontext\u001b[0m\u001b[1;33m.\u001b[0m\u001b[0masync_wait\u001b[0m\u001b[1;33m(\u001b[0m\u001b[1;33m)\u001b[0m\u001b[1;33m\u001b[0m\u001b[1;33m\u001b[0m\u001b[0m\n",
      "\u001b[1;32m~\\AppData\\Roaming\\Python\\Python37\\site-packages\\tensorflow\\python\\eager\\def_function.py\u001b[0m in \u001b[0;36m__call__\u001b[1;34m(self, *args, **kwds)\u001b[0m\n\u001b[0;32m    826\u001b[0m     \u001b[0mtracing_count\u001b[0m \u001b[1;33m=\u001b[0m \u001b[0mself\u001b[0m\u001b[1;33m.\u001b[0m\u001b[0mexperimental_get_tracing_count\u001b[0m\u001b[1;33m(\u001b[0m\u001b[1;33m)\u001b[0m\u001b[1;33m\u001b[0m\u001b[1;33m\u001b[0m\u001b[0m\n\u001b[0;32m    827\u001b[0m     \u001b[1;32mwith\u001b[0m \u001b[0mtrace\u001b[0m\u001b[1;33m.\u001b[0m\u001b[0mTrace\u001b[0m\u001b[1;33m(\u001b[0m\u001b[0mself\u001b[0m\u001b[1;33m.\u001b[0m\u001b[0m_name\u001b[0m\u001b[1;33m)\u001b[0m \u001b[1;32mas\u001b[0m \u001b[0mtm\u001b[0m\u001b[1;33m:\u001b[0m\u001b[1;33m\u001b[0m\u001b[1;33m\u001b[0m\u001b[0m\n\u001b[1;32m--> 828\u001b[1;33m       \u001b[0mresult\u001b[0m \u001b[1;33m=\u001b[0m \u001b[0mself\u001b[0m\u001b[1;33m.\u001b[0m\u001b[0m_call\u001b[0m\u001b[1;33m(\u001b[0m\u001b[1;33m*\u001b[0m\u001b[0margs\u001b[0m\u001b[1;33m,\u001b[0m \u001b[1;33m**\u001b[0m\u001b[0mkwds\u001b[0m\u001b[1;33m)\u001b[0m\u001b[1;33m\u001b[0m\u001b[1;33m\u001b[0m\u001b[0m\n\u001b[0m\u001b[0;32m    829\u001b[0m       \u001b[0mcompiler\u001b[0m \u001b[1;33m=\u001b[0m \u001b[1;34m\"xla\"\u001b[0m \u001b[1;32mif\u001b[0m \u001b[0mself\u001b[0m\u001b[1;33m.\u001b[0m\u001b[0m_experimental_compile\u001b[0m \u001b[1;32melse\u001b[0m \u001b[1;34m\"nonXla\"\u001b[0m\u001b[1;33m\u001b[0m\u001b[1;33m\u001b[0m\u001b[0m\n\u001b[0;32m    830\u001b[0m       \u001b[0mnew_tracing_count\u001b[0m \u001b[1;33m=\u001b[0m \u001b[0mself\u001b[0m\u001b[1;33m.\u001b[0m\u001b[0mexperimental_get_tracing_count\u001b[0m\u001b[1;33m(\u001b[0m\u001b[1;33m)\u001b[0m\u001b[1;33m\u001b[0m\u001b[1;33m\u001b[0m\u001b[0m\n",
      "\u001b[1;32m~\\AppData\\Roaming\\Python\\Python37\\site-packages\\tensorflow\\python\\eager\\def_function.py\u001b[0m in \u001b[0;36m_call\u001b[1;34m(self, *args, **kwds)\u001b[0m\n\u001b[0;32m    853\u001b[0m       \u001b[1;31m# In this case we have created variables on the first call, so we run the\u001b[0m\u001b[1;33m\u001b[0m\u001b[1;33m\u001b[0m\u001b[1;33m\u001b[0m\u001b[0m\n\u001b[0;32m    854\u001b[0m       \u001b[1;31m# defunned version which is guaranteed to never create variables.\u001b[0m\u001b[1;33m\u001b[0m\u001b[1;33m\u001b[0m\u001b[1;33m\u001b[0m\u001b[0m\n\u001b[1;32m--> 855\u001b[1;33m       \u001b[1;32mreturn\u001b[0m \u001b[0mself\u001b[0m\u001b[1;33m.\u001b[0m\u001b[0m_stateless_fn\u001b[0m\u001b[1;33m(\u001b[0m\u001b[1;33m*\u001b[0m\u001b[0margs\u001b[0m\u001b[1;33m,\u001b[0m \u001b[1;33m**\u001b[0m\u001b[0mkwds\u001b[0m\u001b[1;33m)\u001b[0m  \u001b[1;31m# pylint: disable=not-callable\u001b[0m\u001b[1;33m\u001b[0m\u001b[1;33m\u001b[0m\u001b[0m\n\u001b[0m\u001b[0;32m    856\u001b[0m     \u001b[1;32melif\u001b[0m \u001b[0mself\u001b[0m\u001b[1;33m.\u001b[0m\u001b[0m_stateful_fn\u001b[0m \u001b[1;32mis\u001b[0m \u001b[1;32mnot\u001b[0m \u001b[1;32mNone\u001b[0m\u001b[1;33m:\u001b[0m\u001b[1;33m\u001b[0m\u001b[1;33m\u001b[0m\u001b[0m\n\u001b[0;32m    857\u001b[0m       \u001b[1;31m# Release the lock early so that multiple threads can perform the call\u001b[0m\u001b[1;33m\u001b[0m\u001b[1;33m\u001b[0m\u001b[1;33m\u001b[0m\u001b[0m\n",
      "\u001b[1;32m~\\AppData\\Roaming\\Python\\Python37\\site-packages\\tensorflow\\python\\eager\\function.py\u001b[0m in \u001b[0;36m__call__\u001b[1;34m(self, *args, **kwargs)\u001b[0m\n\u001b[0;32m   2941\u001b[0m        filtered_flat_args) = self._maybe_define_function(args, kwargs)\n\u001b[0;32m   2942\u001b[0m     return graph_function._call_flat(\n\u001b[1;32m-> 2943\u001b[1;33m         filtered_flat_args, captured_inputs=graph_function.captured_inputs)  # pylint: disable=protected-access\n\u001b[0m\u001b[0;32m   2944\u001b[0m \u001b[1;33m\u001b[0m\u001b[0m\n\u001b[0;32m   2945\u001b[0m   \u001b[1;33m@\u001b[0m\u001b[0mproperty\u001b[0m\u001b[1;33m\u001b[0m\u001b[1;33m\u001b[0m\u001b[0m\n",
      "\u001b[1;32m~\\AppData\\Roaming\\Python\\Python37\\site-packages\\tensorflow\\python\\eager\\function.py\u001b[0m in \u001b[0;36m_call_flat\u001b[1;34m(self, args, captured_inputs, cancellation_manager)\u001b[0m\n\u001b[0;32m   1917\u001b[0m       \u001b[1;31m# No tape is watching; skip to running the function.\u001b[0m\u001b[1;33m\u001b[0m\u001b[1;33m\u001b[0m\u001b[1;33m\u001b[0m\u001b[0m\n\u001b[0;32m   1918\u001b[0m       return self._build_call_outputs(self._inference_function.call(\n\u001b[1;32m-> 1919\u001b[1;33m           ctx, args, cancellation_manager=cancellation_manager))\n\u001b[0m\u001b[0;32m   1920\u001b[0m     forward_backward = self._select_forward_and_backward_functions(\n\u001b[0;32m   1921\u001b[0m         \u001b[0margs\u001b[0m\u001b[1;33m,\u001b[0m\u001b[1;33m\u001b[0m\u001b[1;33m\u001b[0m\u001b[0m\n",
      "\u001b[1;32m~\\AppData\\Roaming\\Python\\Python37\\site-packages\\tensorflow\\python\\eager\\function.py\u001b[0m in \u001b[0;36mcall\u001b[1;34m(self, ctx, args, cancellation_manager)\u001b[0m\n\u001b[0;32m    558\u001b[0m               \u001b[0minputs\u001b[0m\u001b[1;33m=\u001b[0m\u001b[0margs\u001b[0m\u001b[1;33m,\u001b[0m\u001b[1;33m\u001b[0m\u001b[1;33m\u001b[0m\u001b[0m\n\u001b[0;32m    559\u001b[0m               \u001b[0mattrs\u001b[0m\u001b[1;33m=\u001b[0m\u001b[0mattrs\u001b[0m\u001b[1;33m,\u001b[0m\u001b[1;33m\u001b[0m\u001b[1;33m\u001b[0m\u001b[0m\n\u001b[1;32m--> 560\u001b[1;33m               ctx=ctx)\n\u001b[0m\u001b[0;32m    561\u001b[0m         \u001b[1;32melse\u001b[0m\u001b[1;33m:\u001b[0m\u001b[1;33m\u001b[0m\u001b[1;33m\u001b[0m\u001b[0m\n\u001b[0;32m    562\u001b[0m           outputs = execute.execute_with_cancellation(\n",
      "\u001b[1;32m~\\AppData\\Roaming\\Python\\Python37\\site-packages\\tensorflow\\python\\eager\\execute.py\u001b[0m in \u001b[0;36mquick_execute\u001b[1;34m(op_name, num_outputs, inputs, attrs, ctx, name)\u001b[0m\n\u001b[0;32m     58\u001b[0m     \u001b[0mctx\u001b[0m\u001b[1;33m.\u001b[0m\u001b[0mensure_initialized\u001b[0m\u001b[1;33m(\u001b[0m\u001b[1;33m)\u001b[0m\u001b[1;33m\u001b[0m\u001b[1;33m\u001b[0m\u001b[0m\n\u001b[0;32m     59\u001b[0m     tensors = pywrap_tfe.TFE_Py_Execute(ctx._handle, device_name, op_name,\n\u001b[1;32m---> 60\u001b[1;33m                                         inputs, attrs, num_outputs)\n\u001b[0m\u001b[0;32m     61\u001b[0m   \u001b[1;32mexcept\u001b[0m \u001b[0mcore\u001b[0m\u001b[1;33m.\u001b[0m\u001b[0m_NotOkStatusException\u001b[0m \u001b[1;32mas\u001b[0m \u001b[0me\u001b[0m\u001b[1;33m:\u001b[0m\u001b[1;33m\u001b[0m\u001b[1;33m\u001b[0m\u001b[0m\n\u001b[0;32m     62\u001b[0m     \u001b[1;32mif\u001b[0m \u001b[0mname\u001b[0m \u001b[1;32mis\u001b[0m \u001b[1;32mnot\u001b[0m \u001b[1;32mNone\u001b[0m\u001b[1;33m:\u001b[0m\u001b[1;33m\u001b[0m\u001b[1;33m\u001b[0m\u001b[0m\n",
      "\u001b[1;31mKeyboardInterrupt\u001b[0m: "
     ]
    }
   ],
   "source": [
    "history = model.fit(train, cat_train_labels, validation_data = (valid, cat_valid_labels), epochs=15)"
   ]
  },
  {
   "cell_type": "code",
   "execution_count": 8,
   "id": "immediate-blond",
   "metadata": {},
   "outputs": [
    {
     "name": "stdout",
     "output_type": "stream",
     "text": [
      "41991/41991 [==============================] - 35s 828us/step - loss: 1.9197 - accuracy: 0.6753 34s - loss: 1.7531 - accuracy: 0.84 - ETA: 34s - loss: 2.5478 - accuracy: 0.7 - ETA: 35s - loss - ETA: 33s - loss: - ETA: 31s - loss: 2.5024 - accuracy: 0.62 - ETA: 31s - loss: 2.4712 - accuracy: 0. - ETA: 31s - loss: 2.4260 - - ETA: 30s - lo - ETA: 28s - loss: 2.1 - ETA: 28s - loss: 2.0452 - accuracy: 0. - ETA: 25s - loss: 2.0 - ETA: 24s - loss: 1.9656 - accuracy: - ETA: 23s - loss: 1.9179 - accuracy - ETA: 21s - loss: 1.7200 - accuracy: - ETA: 20s - loss: 1.6956 - accuracy: 0. - ETA: 20s - loss: 1.7110 - a - ETA: 17s - loss: 1.6275 - accuracy: 0.7 - ETA: 17s - loss: 1.6214 - accuracy: 0.70 - ETA: 17s - loss: 1.6127 - accuracy: 0.70 - ETA: 17s - loss: 1.6043 - accura - ETA: 16s - loss: 1.6058 - accurac - ETA: 16s - l - ETA: 14s - loss: 1.8393 - accuracy: 0.692 - ETA: 14s - loss: 1.83 - ETA: 8s - - ETA: 6s - loss: 1.7816 -  - ETA: 6s - los - ETA: 5s - loss: 1.8 - ETA: 4s - loss: 1.7921  - E\n"
     ]
    },
    {
     "data": {
      "text/plain": [
       "[1.9196841716766357, 0.6752985715866089]"
      ]
     },
     "execution_count": 8,
     "metadata": {},
     "output_type": "execute_result"
    }
   ],
   "source": [
    "model.evaluate(test, cat_test_labels)"
   ]
  },
  {
   "cell_type": "code",
   "execution_count": 9,
   "id": "worst-management",
   "metadata": {},
   "outputs": [],
   "source": [
    "predictions = model.predict(test)"
   ]
  },
  {
   "cell_type": "code",
   "execution_count": 10,
   "id": "medical-thailand",
   "metadata": {},
   "outputs": [
    {
     "data": {
      "text/plain": [
       "[<matplotlib.lines.Line2D at 0x1cb85f8b8c8>,\n",
       " <matplotlib.lines.Line2D at 0x1cb85f8bf88>,\n",
       " <matplotlib.lines.Line2D at 0x1cb85f98908>,\n",
       " <matplotlib.lines.Line2D at 0x1cb85f98b88>,\n",
       " <matplotlib.lines.Line2D at 0x1cb85f98d88>,\n",
       " <matplotlib.lines.Line2D at 0x1cb85f98f88>,\n",
       " <matplotlib.lines.Line2D at 0x1cb85f9f188>,\n",
       " <matplotlib.lines.Line2D at 0x1cb85f9f348>]"
      ]
     },
     "execution_count": 10,
     "metadata": {},
     "output_type": "execute_result"
    },
    {
     "data": {
      "image/png": "[encoded data removed]",
      "text/plain": [
       "<Figure size 432x288 with 1 Axes>"
      ]
     },
     "metadata": {
      "needs_background": "light"
     },
     "output_type": "display_data"
    }
   ],
   "source": [
    "plt.plot(predictions)"
   ]
  },
  {
   "cell_type": "code",
   "execution_count": 11,
   "id": "together-answer",
   "metadata": {},
   "outputs": [
    {
     "data": {
      "text/plain": [
       "(1343696, 8)"
      ]
     },
     "execution_count": 11,
     "metadata": {},
     "output_type": "execute_result"
    }
   ],
   "source": [
    "predictions.shape"
   ]
  },
  {
   "cell_type": "code",
   "execution_count": null,
   "id": "physical-poster",
   "metadata": {},
   "outputs": [],
   "source": []
  }
 ],
 "metadata": {
  "kernelspec": {
   "display_name": "Python 3",
   "language": "python",
   "name": "python3"
  },
  "language_info": {
   "codemirror_mode": {
    "name": "ipython",
    "version": 3
   },
   "file_extension": ".py",
   "mimetype": "text/x-python",
   "name": "python",
   "nbconvert_exporter": "python",
   "pygments_lexer": "ipython3",
   "version": "3.7.10"
  }
 },
 "nbformat": 4,
 "nbformat_minor": 5
}
